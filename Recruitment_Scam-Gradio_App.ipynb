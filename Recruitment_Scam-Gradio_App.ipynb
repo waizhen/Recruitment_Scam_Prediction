{
 "cells": [
  {
   "cell_type": "markdown",
   "id": "4e7dd33e",
   "metadata": {},
   "source": [
    "# Designing a Web App for Fraud Job Prediction"
   ]
  },
  {
   "cell_type": "markdown",
   "id": "a8cbce72",
   "metadata": {},
   "source": [
    "## Import Libraries"
   ]
  },
  {
   "cell_type": "code",
   "execution_count": 33,
   "id": "49cea8d1",
   "metadata": {},
   "outputs": [],
   "source": [
    "import gradio as gr\n",
    "import pandas as pd\n",
    "import numpy as np\n",
    "import seaborn as sns\n",
    "import matplotlib.pyplot as plt\n",
    "import nltk\n",
    "import re\n",
    "import string\n",
    "import contractions\n",
    "import joblib\n",
    "from nltk.corpus import stopwords\n",
    "from nltk.tokenize import word_tokenize\n",
    "from nltk.stem import WordNetLemmatizer\n",
    "import lightgbm as lgb\n",
    "from lightgbm import LGBMClassifier\n",
    "from sklearn.feature_extraction.text import CountVectorizer, TfidfVectorizer"
   ]
  },
  {
   "cell_type": "code",
   "execution_count": null,
   "id": "ef8fa8af",
   "metadata": {},
   "outputs": [],
   "source": []
  },
  {
   "cell_type": "markdown",
   "id": "556de8c3",
   "metadata": {},
   "source": [
    "**INPUT**\n",
    "- Dropdown (what type of data to be used for prediction: structured, countvect or tfidf)\n",
    "- Radio (telecommuting, has questions, has company logo)\n",
    "- Dropdown (country, function, employment type, required education, required experience)\n",
    "- Textbox (job title, company profile, description, requirements, benefits)\n",
    "\n",
    "**OUTPUT**\n",
    "- Label (show the classification label)\n",
    "- Textbox (Show a message telling a brief description of the output)"
   ]
  },
  {
   "cell_type": "markdown",
   "id": "70c915bc",
   "metadata": {},
   "source": [
    "## Part 1: Load model and Creating the Internal Function"
   ]
  },
  {
   "cell_type": "code",
   "execution_count": 2,
   "id": "904091be",
   "metadata": {},
   "outputs": [],
   "source": [
    "# Create the filter\n",
    "filter = ''.join([chr(i) for i in range(1, 32)])\n",
    "\n",
    "def preprocess_text(x):\n",
    "    \n",
    "    # Lowercase text\n",
    "    x = x.lower()\n",
    "    \n",
    "    # Remove unicode chars, escape chars, HTML chars & special chars\n",
    "    x = x.encode('ascii', 'ignore').decode()\n",
    "    x = x.translate(str.maketrans('', '', filter))\n",
    "    x = re.sub('<[^<]+?>', ' ', x)\n",
    "    x = re.sub(u'\\xa0', u' ', x)\n",
    "    x = re.sub('&amp;', ' ', x)\n",
    "    \n",
    "    # Remove URL, mentions and hashtags\n",
    "    x = re.sub(\"https*\\S+\", \" \", x)\n",
    "    x = re.sub(\"@\\S+\", \" \", x)\n",
    "    x = re.sub(\"#\\S+\", \" \", x)\n",
    "    \n",
    "    # Expand contractions for shortened words\n",
    "    x = contractions.fix(x)\n",
    "    \n",
    "    # Remove apostrophe and punctuations\n",
    "    x = re.sub(\"\\'\\w+\", '', x)\n",
    "    x = re.sub(\"\\’\\w+\", '', x)\n",
    "    x = re.sub('[%s]' % re.escape(string.punctuation), ' ', x)\n",
    "    \n",
    "    # Remove digits and words containing digits\n",
    "    x = re.sub(r'\\w*\\d+\\w*', '', x)\n",
    "    \n",
    "    # Strip off extra white spaces\n",
    "    x = re.sub('\\s{2,}', ' ', x)\n",
    "    \n",
    "    return x\n",
    "\n",
    "# Create a simple lemmatizer function\n",
    "def lemmatizer(tokens):\n",
    "    \n",
    "    text = [WordNetLemmatizer().lemmatize(word) for word in tokens]\n",
    "    return text\n",
    "\n",
    "# Create a country abbreviation dict\n",
    "country_dict = {\n",
    "    'United States': 'US', 'New Zealand': 'NZ', 'Germany': 'DE', 'Great Britain': 'GB', 'Australia': 'AU', \n",
    "    'Singapore': 'SG', 'Israel': 'IL', 'United Arab Emirates': 'AE', 'Canada': 'CA', 'India': 'IN', 'Egypt': 'EG', \n",
    "    'Poland': 'PL', 'Greece': 'GR', 'Undefined': 'Undefined', 'Pakistan': 'PK', 'Belgium': 'BE', 'Brazil': 'BR', \n",
    "    'Saudi Arabia': 'SA', 'Denmark': 'DK', 'Russia': 'RU', 'South Africa': 'ZA', 'Cyprus': 'CY', 'Hong Kong': 'HK', \n",
    "    'Turkey': 'TR', 'Ireland': 'IE', 'Lithuania': 'LT', 'Japan': 'JP', 'Netherlands': 'NL', 'Austria': 'AT', \n",
    "    'South Korea': 'KR', 'France': 'FR', 'Estonia': 'ES', 'Thailand': 'TH', 'Panama': 'PA', 'Kenya': 'KE', \n",
    "    'Mauritius': 'MU', 'Mexico': 'MX', 'Romania': 'RO', 'Malaysia': 'MY', 'Finland': 'FI', 'China': 'CN', 'Spain': 'ES', \n",
    "    'Sweden': 'SE', 'Chile': 'CL', 'Ukraine': 'UA', 'Qatar': 'QA', 'Italy': 'IT', 'Latvia': 'LV', 'Iraq': 'IQ', \n",
    "    'Bulgaria': 'BG', 'Philippines': 'PH', 'Czech Republic': 'CZ', 'U.S. Virgin Islands': 'VI', 'Malta': 'MT', \n",
    "    'Hungary': 'HU', 'Non-US countries': 'Non-US', 'Bangladesh': 'BD', 'Kuwait': 'KW', 'Luxembourg': 'LU', \n",
    "    'Nigeria': 'NG', 'Serbia': 'RS', 'Belarus': 'BY', 'Vietnam': 'VN', 'Indonesia': 'ID', 'Zambia': 'ZM', 'Norway': 'NO', \n",
    "    'Bahrain': 'BH', 'Uganda': 'UG', 'Switzerland': 'CH', 'U.S. & Other countries': 'US+other', 'Trinidad & Tobago': 'TT', \n",
    "    'Sudan': 'SD', 'Slovakia': 'SK', 'Argentina': 'AR', 'Taiwan': 'TW', 'Portugal': 'PT', 'Peru': 'PE', 'Colombia': 'CO', \n",
    "    'Iceland': 'IS', 'Slovenia': 'SI', 'Morocco': 'MA', 'Armenia': 'AM', 'Tunisia': 'TN', 'Ghana': 'GH', 'Albania': 'AL', \n",
    "    'Croatia': 'HR', 'Cameroon': 'CM', 'El Salvador': 'SV', 'Nicaragua': 'NI', 'Sri Lanka': 'LK', 'Jamaica': 'JM', \n",
    "    'Kazakhstan': 'KZ', 'Cambodia': 'KH'\n",
    "}\n",
    "\n",
    "# Create feature list\n",
    "feature_list = [\n",
    "    \"telecommuting\", \"has_company_logo\", \"has_questions\", \"raw_word_count\", \"employment_type_Contract\", \"employment_type_Full-time\", \n",
    "    \"employment_type_Full-time & Part-time\", \"employment_type_Other\", \"employment_type_Part-time\", \"employment_type_Temporary\", \n",
    "    \"required_experience_Associate\", \"required_experience_Director\", \"required_experience_Entry level\", \"required_experience_Executive\", \n",
    "    \"required_experience_Internship\", \"required_experience_Mid-Senior level\", \"required_experience_Not Applicable\", \n",
    "    \"required_education_Associate Degree\", \"required_education_Bachelor's Degree\", \"required_education_Certification\", \n",
    "    \"required_education_Doctorate\", \"required_education_Empty requirements\", \"required_education_High School or equivalent\", \n",
    "    \"required_education_Master's Degree\", \"required_education_Professional\", \"required_education_Some College Coursework Completed\", \n",
    "    \"required_education_Some High School Coursework\", \"required_education_Unspecified\", \"required_education_Vocational\", \n",
    "    \"required_education_Vocational - Degree\", \"required_education_Vocational - HS Diploma\", \"function_Accounting/Auditing\", \n",
    "    \"function_Administrative\", \"function_Advertising\", \"function_Art/Creative\", \"function_Business Analyst\", \"function_Business Development\", \n",
    "    \"function_Consulting\", \"function_Customer Service\", \"function_Data Analyst\", \"function_Design\", \"function_Distribution\", \n",
    "    \"function_Education\", \"function_Engineering\", \"function_Finance\", \"function_Financial Analyst\", \"function_General Business\", \n",
    "    \"function_Health Care Provider\", \"function_Human Resources\", \"function_Information Technology\", \"function_Legal\", \n",
    "    \"function_Management\", \"function_Manufacturing\", \"function_Marketing\", \"function_Other\", \"function_Product Management\", \n",
    "    \"function_Production\", \"function_Project Management\", \"function_Public Relations\", \"function_Purchasing\", \"function_Quality Assurance\", \n",
    "    \"function_Research\", \"function_Sales\", \"function_Science\", \"function_Strategy/Planning\", \"function_Supply Chain\", \n",
    "    \"function_Training\", \"function_Writing/Editing\", \"country_AE\", \"country_AL\", \"country_AM\", \"country_AR\", \"country_AT\", \n",
    "    \"country_AU\", \"country_BD\", \"country_BE\", \"country_BG\", \"country_BH\", \"country_BR\", \"country_BY\", \"country_CA\", \"country_CH\", \n",
    "    \"country_CL\", \"country_CM\", \"country_CN\", \"country_CO\", \"country_CY\", \"country_CZ\", \"country_DE\", \"country_DK\", \"country_EE\", \n",
    "    \"country_EG\", \"country_ES\", \"country_FI\", \"country_FR\", \"country_GB\", \"country_GH\", \"country_GR\", \"country_HK\", \"country_HR\", \n",
    "    \"country_HU\", \"country_ID\", \"country_IE\", \"country_IL\", \"country_IN\", \"country_IQ\", \"country_IS\", \"country_IT\", \"country_JM\", \n",
    "    \"country_JP\", \"country_KE\", \"country_KH\", \"country_KR\", \"country_KW\", \"country_KZ\", \"country_LK\", \"country_LT\", \"country_LU\", \n",
    "    \"country_LV\", \"country_MA\", \"country_MT\", \"country_MU\", \"country_MX\", \"country_MY\", \"country_NG\", \"country_NI\", \"country_NL\", \n",
    "    \"country_NO\", \"country_NZ\", \"country_Non-US\", \"country_PA\", \"country_PE\", \"country_PH\", \"country_PK\", \"country_PL\", \n",
    "    \"country_PT\", \"country_QA\", \"country_RO\", \"country_RS\", \"country_RU\", \"country_SA\", \"country_SD\", \"country_SE\", \"country_SG\", \n",
    "    \"country_SI\", \"country_SK\", \"country_SV\", \"country_TH\", \"country_TN\", \"country_TR\", \"country_TT\", \"country_TW\", \"country_UA\", \n",
    "    \"country_UG\", \"country_US\", \"country_US+other\", \"country_Undefined\", \"country_VI\", \"country_VN\", \"country_ZA\", \"country_ZM\"\n",
    "]"
   ]
  },
  {
   "cell_type": "code",
   "execution_count": 108,
   "id": "cfcbff2e",
   "metadata": {},
   "outputs": [],
   "source": [
    "# Create a predict function with input parameters from user inputs\n",
    "def predict(method, job_title, employment_type, required_experience, required_education, function, country, \n",
    "            telecommuting, has_company_logo, has_questions, location, company_profile, job_description, \n",
    "            requirements, benefits, plot_option):\n",
    "    \n",
    "    # Convert country to 2 letter abbrieviation\n",
    "    country = country_dict[country]\n",
    "    \n",
    "    # Create structured df with all int zeros\n",
    "    df_structured = pd.DataFrame(int(0), index=np.arange(1), columns=feature_list)\n",
    "    \n",
    "    # Fill the features accordingly to structured df\n",
    "    df_structured.loc[0, 'telecommuting'] = int(np.where(telecommuting == 'Yes', 1, 0))\n",
    "    df_structured.loc[0, 'has_company_logo'] = int(np.where(has_company_logo == 'Yes', 1, 0))\n",
    "    df_structured.loc[0, 'has_questions'] = int(np.where(has_questions == 'Yes', 1, 0))\n",
    "    df_structured.loc[0, 'employment_type' + '_' + str(employment_type)] = 1\n",
    "    df_structured.loc[0, 'required_experience' + '_' + str(required_experience)] = 1\n",
    "    df_structured.loc[0, 'required_education' + '_' + str(required_education)] = 1\n",
    "    df_structured.loc[0, 'function' + '_' + str(function)] = 1\n",
    "    df_structured.loc[0, 'country' + '_' + str(country)] = 1\n",
    "        \n",
    "    # Text df\n",
    "    df_text = pd.DataFrame({\n",
    "        'text': [job_title + ' ' + location + ' ' + company_profile + ' ' + job_description + ' ' + \\\n",
    "                 requirements + ' ' + benefits]\n",
    "    })\n",
    "    \n",
    "    # Get the raw word count\n",
    "    df_structured['raw_word_count'] = df_text['text'].apply(lambda x: len(x.split()))\n",
    "\n",
    "    # Apply the function to create a new column\n",
    "    df_text['clean_text'] = df_text['text'].apply(preprocess_text)\n",
    "\n",
    "    # Apply word_tokenize with stopwords removal\n",
    "    df_text['tokenized_text'] = df_text['clean_text'].apply(word_tokenize).apply(lambda x: [\n",
    "        w for w in x if not w.lower() in set(stopwords.words('english'))\n",
    "    ])\n",
    "    \n",
    "    # Apply the function to an entire column\n",
    "    df_text['lemmatized_text'] = df_text['tokenized_text'].apply(lemmatizer)\n",
    "    \n",
    "    # For plotting\n",
    "    filtered_val = ''\n",
    "    if plot_option == 'function':\n",
    "        filtered_val = function\n",
    "    elif plot_option == 'country':\n",
    "        filtered_val = country\n",
    "    df_plot = pd.read_csv(\"recruitment_plotting.csv\")\n",
    "    df_plotted = df_plot[\n",
    "        df_plot[str(plot_option)] == str(filtered_val)\n",
    "    ].groupby('fraudulent').size().reset_index().rename(columns={0: 'count'})\n",
    "    df_plotted['percentage_count'] = df_plotted['count'] / df_plotted['count'].sum() * 100\n",
    "\n",
    "    # Plot graph based on user input (function or country, count or percent count)\n",
    "    fig = plt.figure(figsize=(9.5, 7))\n",
    "    sns.set(font_scale=1)\n",
    "    ax = sns.barplot(data=df_plotted, x='fraudulent', y='percentage_count', palette='Oranges_r')\n",
    "    plt.title('Percentage count of real and fraud jobs from ' + str(plot_option) + ' ' + str(filtered_val), fontsize=13)\n",
    "    if (len(df_plotted) == 1) & (df_plotted2['fraudulent'][0] == 0):\n",
    "        ax.set_xticklabels(['Real job'])\n",
    "    elif (len(df_plotted) == 1) & (df_plotted2['fraudulent'][0] == 1):\n",
    "        ax.set_xticklabels(['Fraud job'])\n",
    "    elif len(df_plotted) > 1:\n",
    "        ax.set_xticklabels(['Real job', 'Fraud job'])\n",
    "    plt.ylabel(\"Percentage count\", fontsize=12.25)\n",
    "    plt.xlabel(\"Fraudulent\", fontsize=12.25)\n",
    "    plt.close()\n",
    "    \n",
    "    X = ''\n",
    "    model = ''\n",
    "    if method == 'Structured data':\n",
    "        model = joblib.load('RS_lgbm_over_55-45_18072021.pkl')\n",
    "        X = df_structured.values\n",
    "    elif method == 'Count vectorizer':\n",
    "        model = joblib.load('RS_lgbm_countvect_over_17072021.pkl')\n",
    "        f = open(\"countvect_feature_names.txt\", \"r\")\n",
    "        imported_features = [s.rstrip() for s in f.readlines()]\n",
    "        count_vect = CountVectorizer()\n",
    "        X_countvect = count_vect.fit_transform(df_text['lemmatized_text'].apply(lambda x: \" \".join(x)))\n",
    "        X_countvect = pd.DataFrame(X_countvect.astype('int16').toarray(), columns=count_vect.get_feature_names())\n",
    "        X = pd.DataFrame(int(0), index=np.arange(1), columns=imported_features)\n",
    "        for feature in count_vect.get_feature_names():\n",
    "            if feature in X.columns:\n",
    "                X.loc[0, feature] = X_countvect.loc[0, feature]\n",
    "        X = X.values\n",
    "    elif method == 'TFIDF vectorizer':\n",
    "        model = joblib.load('RS_lgbm_tfidfvect_over_17072021.pkl')\n",
    "        f = open(\"tfidfvect_feature_names.txt\", \"r\")\n",
    "        imported_features = [s.rstrip() for s in f.readlines()]\n",
    "        tfidf_vect = TfidfVectorizer()\n",
    "        X_tfidfvect = tfidf_vect.fit_transform(df_text['lemmatized_text'].apply(lambda x: \" \".join(x)))\n",
    "        X_tfidfvect = pd.DataFrame(X_tfidfvect.astype('float16').toarray(), columns=tfidf_vect.get_feature_names())\n",
    "        X = pd.DataFrame(float(0), index=np.arange(1), columns=imported_features)\n",
    "        for feature in tfidf_vect.get_feature_names():\n",
    "            if feature in X.columns:\n",
    "                X.loc[0, feature] = X_tfidfvect.loc[0, feature]\n",
    "        X = X.values\n",
    "    \n",
    "    pred = model.predict(X)[0]\n",
    "    prob = model.predict_proba(X)[0]\n",
    "    message = str(np.where(pred == 1, '\\nThe model identifies the job post as a fraud employment posting.\\nBe careful of this job!\\n   ', \n",
    "                           \"\\nThe model identifies the job post as a real employment posting.\\nYou can proceed with the job!\\n   \"))\n",
    "    \n",
    "    return {'Real Job Post': prob[0], 'Fraud Job Post': prob[1]}, message, fig"
   ]
  },
  {
   "cell_type": "code",
   "execution_count": 39,
   "id": "51bfeb62",
   "metadata": {},
   "outputs": [
    {
     "data": {
      "image/png": "[encoded data removed]",
      "text/plain": [
       "<Figure size 612x468 with 1 Axes>"
      ]
     },
     "metadata": {},
     "output_type": "display_data"
    }
   ],
   "source": [
    "df_plot = pd.read_csv(\"recruitment_plotting.csv\")\n",
    "df_plotted = df_plot[\n",
    "    df_plot['function'] == 'Data Analyst'\n",
    "].groupby('fraudulent').size().reset_index().rename(columns={0: 'count'})\n",
    "df_plotted['percent_count'] = df_plotted['count'] / df_plotted['count'].sum() * 100\n",
    "\n",
    "# Plot graph based on user input (function or country, count or percent count)\n",
    "sns.set(font_scale=1)\n",
    "plt.figure(figsize=(8.5, 6.5))\n",
    "ax = sns.barplot(data=df_plotted, x='fraudulent', y='percent_count', palette='Oranges_r')\n",
    "plt.title('Percentage count of real and fraud jobs' + ' asdfg')\n",
    "ax.set_xticklabels(['Real job', 'Fraud job'])\n",
    "plt.show()"
   ]
  },
  {
   "cell_type": "code",
   "execution_count": 36,
   "id": "41d4cc73",
   "metadata": {},
   "outputs": [
    {
     "data": {
      "image/png": "[encoded data removed]",
      "text/plain": [
       "<Figure size 612x468 with 1 Axes>"
      ]
     },
     "metadata": {},
     "output_type": "display_data"
    }
   ],
   "source": [
    "#df_plot = pd.read_csv(\"recruitment_plotting.csv\")\n",
    "df_plotted = df_plot[\n",
    "    df_plot['country'] == 'MY'\n",
    "].groupby('fraudulent').size().reset_index().rename(columns={0: 'count'})\n",
    "df_plotted['percent_count'] = df_plotted['count'] / df_plotted['count'].sum() * 100\n",
    "\n",
    "# Plot graph based on user input (function or country, count or percent count)\n",
    "sns.set(font_scale=1)\n",
    "plt.figure(figsize=(8.5, 6.5))\n",
    "sns.barplot(data=df_plotted, x='fraudulent', y='percent_count', palette='Oranges_r')\n",
    "plt.show()"
   ]
  },
  {
   "cell_type": "code",
   "execution_count": 107,
   "id": "1569e7ec",
   "metadata": {},
   "outputs": [
    {
     "data": {
      "image/png": "[encoded data removed]",
      "text/plain": [
       "<Figure size 684x504 with 1 Axes>"
      ]
     },
     "metadata": {},
     "output_type": "display_data"
    }
   ],
   "source": [
    "# Plot graph based on user input (function or country, count or percent count)\n",
    "sns.set(font_scale=1)\n",
    "plt.figure(figsize=(9.5, 7))\n",
    "ax = sns.barplot(data=df_plotted2, x='fraudulent', y='percent_count', palette='Oranges_r')\n",
    "plt.title('Percentage count of real and fraud jobs' + ' asdfg')\n",
    "if (len(df_plotted2) == 1) & (df_plotted2['fraudulent'][0] == 0):\n",
    "    ax.set_xticklabels(['Real job'])\n",
    "elif (len(df_plotted2) == 1) & (df_plotted2['fraudulent'][0] == 1):\n",
    "    ax.set_xticklabels(['Fraud job'])\n",
    "elif len(df_plotted2) > 1:\n",
    "    ax.set_xticklabels(['Real job', 'Fraud job'])\n",
    "plt.show()"
   ]
  },
  {
   "cell_type": "code",
   "execution_count": null,
   "id": "a1a66de0",
   "metadata": {},
   "outputs": [],
   "source": []
  },
  {
   "cell_type": "markdown",
   "id": "56483f81",
   "metadata": {},
   "source": [
    "## Part 2: Creating the UI with Gradio"
   ]
  },
  {
   "cell_type": "code",
   "execution_count": 109,
   "id": "9572bf77",
   "metadata": {},
   "outputs": [],
   "source": [
    "method = gr.inputs.Radio(['Structured data', 'Count vectorizer', 'TFIDF vectorizer'], label=\"How would you like to predict?\")\n",
    "job_title = gr.inputs.Textbox(placeholder=\"Enter job title here\", label='Job Title')\n",
    "employment_type = gr.inputs.Radio(['Full-time', 'Part-time', 'Contract', 'Temporary', 'Full-time & Part-time', 'Other'], \n",
    "                                     label=\"Employment Type\", default='Full-time')\n",
    "required_experience = gr.inputs.Dropdown(['Internship', 'Entry level', 'Associate', 'Mid-Senior level', 'Executive', \n",
    "                                          'Director', 'Not Applicable'], label=\"Required Experience Category\", \n",
    "                                         default = 'Entry level')\n",
    "required_education = gr.inputs.Dropdown([\n",
    "    \"Bachelor's Degree\", \"Master's Degree\", 'High School or equivalent', 'Empty requirements', 'Associate Degree', \n",
    "    'Some College Coursework Completed', 'Vocational', 'Certification', 'Doctorate', 'Professional', \n",
    "    'Some High School Coursework', 'Vocational - Degree', 'Vocational - HS Diploma', 'Unspecified'\n",
    "], label=\"Required Education\", default=\"Bachelor's Degree\")\n",
    "function = gr.inputs.Dropdown(sorted([\n",
    "    'Marketing', 'Customer Service', 'Administrative', 'Sales', 'Health Care Provider', 'Management', \n",
    "    'Information Technology', 'Human Resources', 'Other', 'Engineering', 'Design', 'Education', 'Production', \n",
    "    'Supply Chain', 'Business Development', 'Product Management', 'Financial Analyst', 'Consulting', 'Project Management', \n",
    "    'Manufacturing', 'Public Relations', 'Writing/Editing', 'Strategy/Planning', 'General Business', 'Advertising', \n",
    "    'Finance', 'Research', 'Accounting/Auditing', 'Art/Creative', 'Quality Assurance', 'Training', 'Data Analyst',\n",
    "    'Business Analyst', 'Distribution', 'Legal', 'Science', 'Purchasing'\n",
    "]), label=\"Job Function\")\n",
    "country = gr.inputs.Dropdown(sorted([\n",
    "    'United States', 'New Zealand', 'Germany', 'Great Britain', 'Australia', 'Singapore', 'Israel', \n",
    "    'United Arab Emirates', 'Canada', 'India', 'Egypt', 'Poland', 'Greece', 'Undefined', 'Pakistan', 'Belgium', 'Brazil', \n",
    "    'Saudi Arabia', 'Denmark', 'Russia', 'South Africa', 'Cyprus', 'Hong Kong', 'Turkey', 'Ireland', 'Lithuania', 'Japan', \n",
    "    'Netherlands', 'Austria', 'South Korea', 'France', 'Estonia', 'Thailand', 'Panama', 'Kenya', 'Mauritius', 'Mexico', \n",
    "    'Romania', 'Malaysia', 'Finland', 'China', 'Spain', 'Sweden', 'Chile', 'Ukraine', 'Qatar', 'Italy', 'Latvia', 'Iraq', \n",
    "    'Bulgaria', 'Philippines', 'Czech Republic', 'U.S. Virgin Islands', 'Malta', 'Hungary', 'Non-US countries', \n",
    "    'Bangladesh', 'Kuwait', 'Luxembourg', 'Nigeria', 'Serbia', 'Belarus', 'Vietnam', 'Indonesia', 'Zambia', 'Norway', \n",
    "    'Bahrain', 'Uganda', 'Switzerland', 'U.S. & Other countries', 'Trinidad & Tobago', 'Sudan', 'Slovakia', 'Argentina', \n",
    "    'Taiwan', 'Portugal', 'Peru', 'Colombia', 'Iceland', 'Slovenia', 'Morocco', 'Armenia', 'Tunisia', 'Ghana', 'Albania', \n",
    "    'Croatia', 'Cameroon', 'El Salvador', 'Nicaragua', 'Sri Lanka', 'Jamaica', 'Kazakhstan', 'Cambodia'\n",
    "]), label=\"Country of Job Post\", default=\"United States\")\n",
    "telecommuting = gr.inputs.Radio(['Yes', 'No'], label='Are there any telecommuting options available?')\n",
    "has_company_logo = gr.inputs.Radio(['Yes', 'No'], label='Does the company have any company logo?')\n",
    "has_questions = gr.inputs.Radio(['Yes', 'No'], label='Does the job post contain any questions?')\n",
    "location = gr.inputs.Textbox(placeholder=\"Enter location here: eg. US, CA, Los Angeles\", \n",
    "                             label='Location in the form of country, state, city')\n",
    "company_profile = gr.inputs.Textbox(lines=4, placeholder=\"Enter company profile here\", label='Company Profile (if any)')\n",
    "job_description = gr.inputs.Textbox(lines=4, placeholder=\"Enter job description here\", label='Full Job Description')\n",
    "requirements = gr.inputs.Textbox(lines=4, placeholder=\"Enter job requirements here\", label='Full Job Requirements (if any)')\n",
    "benefits = gr.inputs.Textbox(lines=4, placeholder=\"Enter job benefits here\", label='Benefits of the Job (if any)')\n",
    "plot_option = gr.inputs.Radio(['function', 'country'], label='Statistical plotting option')\n",
    "\n",
    "# Output textbox\n",
    "output_label = gr.outputs.Label(num_top_classes=2, label=\"Predicted Label\")\n",
    "output_text = gr.outputs.Textbox(label=\"Output Message\")\n",
    "output_plot = gr.outputs.Image(plot=True, label=\"Statistical Plot\", type='plot')"
   ]
  },
  {
   "cell_type": "code",
   "execution_count": null,
   "id": "a9940453",
   "metadata": {},
   "outputs": [],
   "source": []
  },
  {
   "cell_type": "markdown",
   "id": "274e9db8",
   "metadata": {},
   "source": [
    "## Part 3: Call the launch method"
   ]
  },
  {
   "cell_type": "code",
   "execution_count": 112,
   "id": "5338a861",
   "metadata": {},
   "outputs": [],
   "source": [
    "io = gr.Interface(predict, [\n",
    "    method, job_title, employment_type, required_experience, required_education, function, country, telecommuting, \n",
    "    has_company_logo, has_questions, location, company_profile, job_description, requirements, benefits, plot_option\n",
    "], [output_label, output_text, output_plot], verbose=True, theme='default', title=\"Job Posting Fraud Prediction Web App\", \n",
    "                  layout = \"unaligned\",\n",
    "                  description=\"\"\"\n",
    "                  This is a simple web app that helps users to detect if the job posting is real or fraud, please fill up the inputs and enjoy exploring the app!\n",
    "                  \"\"\", \n",
    "                  article=\"\"\"\n",
    "                  Nowadays, job scams are on the rise due to the advancement of technology and internet. There have been many reported crimes on victims \n",
    "                  getting scammed by fake jobs that claimed to offer attractive salaries and bright futures. Thus, in order to counter the issue, we adopt \n",
    "                  data science and machine learning to create a web app that enables users to screen job postings and identify potential fraud jobs.\n",
    "                  \n",
    "                  Data source: Employment Scam Aegean Dataset (EMSCAD)\n",
    "                  \"\"\")"
   ]
  },
  {
   "cell_type": "code",
   "execution_count": 113,
   "id": "c91dcbc3",
   "metadata": {},
   "outputs": [
    {
     "name": "stdout",
     "output_type": "stream",
     "text": [
      "Running locally at: http://127.0.0.1:7885/\n",
      "This share link will expire in 24 hours. If you need a permanent link, visit: https://gradio.app/introducing-hosted (NEW!)\n",
      "Running on External URL: https://28499.gradio.app\n",
      "Interface loading below...\n"
     ]
    },
    {
     "data": {
      "text/html": [
       "\n",
       "        <iframe\n",
       "            width=\"900\"\n",
       "            height=\"500\"\n",
       "            src=\"https://28499.gradio.app\"\n",
       "            frameborder=\"0\"\n",
       "            allowfullscreen\n",
       "        ></iframe>\n",
       "        "
      ],
      "text/plain": [
       "<IPython.lib.display.IFrame at 0x297f70c7cc8>"
      ]
     },
     "metadata": {},
     "output_type": "display_data"
    },
    {
     "data": {
      "text/plain": [
       "(<Flask 'gradio.networking'>,\n",
       " 'http://127.0.0.1:7885/',\n",
       " 'https://28499.gradio.app')"
      ]
     },
     "execution_count": 113,
     "metadata": {},
     "output_type": "execute_result"
    }
   ],
   "source": [
    "io.launch(share=True)"
   ]
  },
  {
   "cell_type": "code",
   "execution_count": null,
   "id": "732392cf",
   "metadata": {},
   "outputs": [],
   "source": []
  },
  {
   "cell_type": "code",
   "execution_count": null,
   "id": "71e499d8",
   "metadata": {},
   "outputs": [],
   "source": []
  }
 ],
 "metadata": {
  "kernelspec": {
   "display_name": "Python 3",
   "language": "python",
   "name": "python3"
  },
  "language_info": {
   "codemirror_mode": {
    "name": "ipython",
    "version": 3
   },
   "file_extension": ".py",
   "mimetype": "text/x-python",
   "name": "python",
   "nbconvert_exporter": "python",
   "pygments_lexer": "ipython3",
   "version": "3.7.6"
  }
 },
 "nbformat": 4,
 "nbformat_minor": 5
}
